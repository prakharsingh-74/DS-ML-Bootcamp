{
 "cells": [
  {
   "cell_type": "markdown",
   "id": "3fa7ff8d-3ac8-455b-a9ac-d93c38e4c8f3",
   "metadata": {},
   "source": [
    "Example-1:temperature conversion"
   ]
  },
  {
   "cell_type": "code",
   "execution_count": 2,
   "id": "a35e1876-804d-4c86-bb0b-cd786311b2f4",
   "metadata": {},
   "outputs": [
    {
     "name": "stdout",
     "output_type": "stream",
     "text": [
      "77.0\n",
      "25.0\n"
     ]
    }
   ],
   "source": [
    "def convert_temperature(temp,unit):\n",
    "    \"This function converts temperature between between celsius and farhenheit\"\n",
    "    if unit=='C':\n",
    "        return temp * 9/5+32  #celsius to farhenheit\n",
    "    elif unit==\"F\":\n",
    "        return (temp-32)*5/9 #Farhenheit to celsius\n",
    "    else:\n",
    "        return None\n",
    "print(convert_temperature(25, 'C'))\n",
    "print(convert_temperature(77, 'F'))"
   ]
  },
  {
   "cell_type": "markdown",
   "id": "04065f33-17e3-4148-8e93-d3924c89e8bd",
   "metadata": {},
   "source": [
    "Example-2:passwword strength checker"
   ]
  },
  {
   "cell_type": "code",
   "execution_count": 7,
   "id": "f8e8f4a6-acb8-4479-88f9-e5fa73593e90",
   "metadata": {},
   "outputs": [
    {
     "name": "stdout",
     "output_type": "stream",
     "text": [
      "False\n",
      "True\n"
     ]
    }
   ],
   "source": [
    "def is_strong_password(password):\n",
    "    \"This function checks if the password is strong or not\"\n",
    "    if len(password)<8:\n",
    "        return False\n",
    "    if not any(char.isdigit()for char in password):\n",
    "        return False\n",
    "    if not any(char.islower()for char in password):\n",
    "        return False\n",
    "    if not any(char.isupper()for char in password):\n",
    "        return False\n",
    "    if not any(char in '!@#$%^&*()_+' for char in password):\n",
    "        return False\n",
    "    return True\n",
    "\n",
    "# calling the function\n",
    "print(is_strong_password('weak password'))\n",
    "print(is_strong_password('str0ng@Password!#'))"
   ]
  },
  {
   "cell_type": "markdown",
   "id": "8213d1a3-2d87-4a8c-821b-8da638a32323",
   "metadata": {},
   "source": [
    "Example-3:calculate the total cost of items in a shopping cart"
   ]
  },
  {
   "cell_type": "code",
   "execution_count": 9,
   "id": "79e7fb1d-5b86-4106-b563-c86a6b563799",
   "metadata": {},
   "outputs": [
    {
     "name": "stdout",
     "output_type": "stream",
     "text": [
      "5.8999999999999995\n"
     ]
    }
   ],
   "source": [
    "def calculate_total_cost(cart):\n",
    "    total_cost=0\n",
    "    for item in cart:\n",
    "        total_cost+=item['price']* item['quantity']\n",
    "    return total_cost\n",
    "\n",
    "cart=[\n",
    "    {'name':'Apple','price':0.5,'quantity':4},\n",
    "    {'name':'banana','price':0.3,'quantity':6},\n",
    "    {'name':'orange','price':0.7,'quantity':3},\n",
    "]\n",
    "total_cost=calculate_total_cost(cart)\n",
    "print(total_cost)"
   ]
  },
  {
   "cell_type": "markdown",
   "id": "dd898448-08a1-4559-bd37-4d55f1be00d3",
   "metadata": {},
   "source": [
    "Example4: checking if a string is a palindrome or not"
   ]
  },
  {
   "cell_type": "code",
   "execution_count": 12,
   "id": "893cb9ab-0540-47be-8921-658a3ccad616",
   "metadata": {},
   "outputs": [
    {
     "name": "stdout",
     "output_type": "stream",
     "text": [
      "True\n",
      "False\n"
     ]
    }
   ],
   "source": [
    "def is_palindrome(s):\n",
    "    s=s.lower().replace(\" \",\"\")\n",
    "    return s==s[::-1]\n",
    "print(is_palindrome(\"A man a plan a canal panama\"))\n",
    "print(is_palindrome(\"hello\"))"
   ]
  },
  {
   "cell_type": "markdown",
   "id": "e93ad8c5-21ec-4d57-bdc5-cfa61982c468",
   "metadata": {},
   "source": [
    "Example5: calculate factorial of a number using recursion"
   ]
  },
  {
   "cell_type": "code",
   "execution_count": 13,
   "id": "09301b68-50b4-45c8-a090-4c79eb1def9d",
   "metadata": {},
   "outputs": [
    {
     "name": "stdout",
     "output_type": "stream",
     "text": [
      "120\n"
     ]
    }
   ],
   "source": [
    "def factorial(n):\n",
    "    if n==0:\n",
    "        return 1\n",
    "    else:\n",
    "        return n*factorial(n-1)\n",
    "print(factorial(5))"
   ]
  },
  {
   "cell_type": "markdown",
   "id": "b74b4bb9-ced6-4608-aae5-1c2614c950c9",
   "metadata": {},
   "source": [
    "Example 6- fucntion to read a file and count the frequency of each word"
   ]
  },
  {
   "cell_type": "code",
   "execution_count": 17,
   "id": "0b1c7f6b-00e6-47b5-8a8b-92eb7c31289a",
   "metadata": {},
   "outputs": [
    {
     "name": "stdout",
     "output_type": "stream",
     "text": [
      "{'hello': 1, 'checha': 1, 'kya': 1, 'haal': 1, 'chaal': 1, 'hai': 1, 'yaad': 1, 'to': 1, 'aati': 1, 'nahi': 1, 'hogi': 1, 'aab': 1, 'tumko': 1, 'hamari': 1}\n"
     ]
    }
   ],
   "source": [
    "def count_word_frequency(file_path):\n",
    "    word_count={}\n",
    "    with open(file_path, 'r') as file:\n",
    "        for line in file:\n",
    "            words=line.split()\n",
    "            for word in words:\n",
    "                word=word.lower().strip('.,!?,;:\"\\'')\n",
    "                word_count[word]=word_count.get(word,0)+1\n",
    "    return word_count\n",
    "filepath='sample.txt'\n",
    "word_frequency=count_word_frequency(filepath)\n",
    "print(word_frequency)"
   ]
  },
  {
   "cell_type": "code",
   "execution_count": null,
   "id": "41275192-2431-47d2-b464-e5b3c3d18eae",
   "metadata": {},
   "outputs": [],
   "source": []
  }
 ],
 "metadata": {
  "kernelspec": {
   "display_name": "Python 3 (ipykernel)",
   "language": "python",
   "name": "python3"
  },
  "language_info": {
   "codemirror_mode": {
    "name": "ipython",
    "version": 3
   },
   "file_extension": ".py",
   "mimetype": "text/x-python",
   "name": "python",
   "nbconvert_exporter": "python",
   "pygments_lexer": "ipython3",
   "version": "3.12.5"
  }
 },
 "nbformat": 4,
 "nbformat_minor": 5
}
