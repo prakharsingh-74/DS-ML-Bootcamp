{
 "cells": [
  {
   "cell_type": "markdown",
   "metadata": {},
   "source": [
    "##PYTHON LOGGING"
   ]
  },
  {
   "cell_type": "markdown",
   "metadata": {},
   "source": [
    "Logging is a crucial aspect of any application, providing a way to track events, errors and operational information. Python built in logging module offers a flexible framework for emittinig log messages from python program. in this lesson, we will cover the basics of logging, including how to configure logging, log levels and best practices for using logging in python applications."
   ]
  },
  {
   "cell_type": "code",
   "execution_count": 1,
   "metadata": {},
   "outputs": [
    {
     "name": "stderr",
     "output_type": "stream",
     "text": [
      "DEBUG:root:This is a debug message\n",
      "INFO:root:this is info mssg\n",
      "ERROR:root:this is an error mssg\n",
      "WARNING:root:this is warning mssg\n",
      "CRITICAL:root:this is a critical mssg\n"
     ]
    }
   ],
   "source": [
    "import logging\n",
    "\n",
    "#configuring the basic logging settings\n",
    "logging.basicConfig(level=logging.DEBUG)\n",
    "\n",
    "## log messages\n",
    "logging.debug('This is a debug message')\n",
    "logging.info('this is info mssg')\n",
    "logging.error('this is an error mssg')\n",
    "logging.warning('this is warning mssg')\n",
    "logging.critical('this is a critical mssg')"
   ]
  },
  {
   "cell_type": "markdown",
   "metadata": {},
   "source": [
    "# Log Levels"
   ]
  },
  {
   "cell_type": "markdown",
   "metadata": {},
   "source": [
    "Python logging module has several log levels indicating the severity of events. the default levels are:-\n",
    "\n",
    "1. DEBUG: detailed information, typically of intrest only when diagnosing problems.\n",
    "2. INFO: confirmation that things are working as expected.\n",
    "3. WARNING: an indication that something unexpected happened, or indicative of some problem in the near future (e.g., 'disk space low'). the software is still working as expected.\n",
    "4. ERROR: Due to a more serious problem, the software has not been able to performm same function.\n",
    "5. CRITICAL: A very serious error, indicating that the program itself may be unable to continue running."
   ]
  },
  {
   "cell_type": "code",
   "execution_count": 2,
   "metadata": {},
   "outputs": [
    {
     "name": "stderr",
     "output_type": "stream",
     "text": [
      "DEBUG:root:This is a debug message\n",
      "INFO:root:this is info mssg\n",
      "ERROR:root:this is an error mssg\n",
      "WARNING:root:this is warning mssg\n",
      "CRITICAL:root:this is a critical mssg\n"
     ]
    }
   ],
   "source": [
    "# configuring logging\n",
    "logging.basicConfig(\n",
    "    filename='app.log',\n",
    "    filemode='w',\n",
    "    level=logging.DEBUG,\n",
    "    format='%(asctime)s-%(name)s-%(levelname)s-%(message)s',\n",
    "    datefmt='%Y-%m-%d %H:%M:%S'\n",
    ")\n",
    "\n",
    "logging.debug('This is a debug message')\n",
    "logging.info('this is info mssg')\n",
    "logging.error('this is an error mssg')\n",
    "logging.warning('this is warning mssg')\n",
    "logging.critical('this is a critical mssg')"
   ]
  },
  {
   "cell_type": "code",
   "execution_count": null,
   "metadata": {},
   "outputs": [],
   "source": []
  }
 ],
 "metadata": {
  "kernelspec": {
   "display_name": "Python 3",
   "language": "python",
   "name": "python3"
  },
  "language_info": {
   "codemirror_mode": {
    "name": "ipython",
    "version": 3
   },
   "file_extension": ".py",
   "mimetype": "text/x-python",
   "name": "python",
   "nbconvert_exporter": "python",
   "pygments_lexer": "ipython3",
   "version": "3.12.0"
  }
 },
 "nbformat": 4,
 "nbformat_minor": 2
}
