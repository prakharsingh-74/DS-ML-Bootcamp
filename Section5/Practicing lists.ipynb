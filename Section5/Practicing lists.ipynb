{
 "cells": [
  {
   "cell_type": "markdown",
   "id": "32d4c866-3a43-4109-8a13-ec495633e78b",
   "metadata": {},
   "source": [
    "Example-manage a to do list"
   ]
  },
  {
   "cell_type": "code",
   "execution_count": 1,
   "id": "d1ffbf58-8d74-470c-aff1-08309a3ca3da",
   "metadata": {},
   "outputs": [
    {
     "name": "stdout",
     "output_type": "stream",
     "text": [
      "to do list remaining\n",
      "-Buy groceries\n",
      "-pay bills\n",
      "-schedule meeting\n",
      "-go for a run\n"
     ]
    }
   ],
   "source": [
    "to_do_list=[\"Buy groceries\",\"clean the house\",\"pay bills\"]\n",
    "# Adding to task\n",
    "to_do_list.append(\"schedule meeting\")\n",
    "to_do_list.append(\"go for a run\")\n",
    "\n",
    "#removing a completed task\n",
    "to_do_list.remove(\"clean the house\")\n",
    "\n",
    "#checking if a task is in the list\n",
    "if \"Pay bills\" in to_do_list:\n",
    "    print('Dont forget to pay the utility bills')\n",
    "print('to do list remaining')\n",
    "for task in to_do_list:\n",
    "    print(f\"-{task}\")"
   ]
  },
  {
   "cell_type": "markdown",
   "id": "83becd9e-736f-4842-aa98-46a67cb3eb49",
   "metadata": {},
   "source": [
    "Example2-organizing the student grades"
   ]
  },
  {
   "cell_type": "code",
   "execution_count": 2,
   "id": "b8f7ccf0-ebc7-43e5-b842-e158e32cd7a9",
   "metadata": {},
   "outputs": [
    {
     "name": "stdout",
     "output_type": "stream",
     "text": [
      "Average grade:88.00\n",
      "highest grade:95\n",
      "lowest grade:78\n"
     ]
    }
   ],
   "source": [
    "grades=[85,92,78,90,88]\n",
    "grades.append(95)\n",
    "average_grade=sum(grades)/len(grades)\n",
    "print(f\"Average grade:{average_grade:.2f}\")\n",
    "\n",
    "highest_grade=max(grades)\n",
    "lowest_grade=min(grades)\n",
    "\n",
    "print(f\"highest grade:{highest_grade}\")\n",
    "print(f\"lowest grade:{lowest_grade}\")"
   ]
  },
  {
   "cell_type": "code",
   "execution_count": null,
   "id": "f62fda64-79fd-4fb1-9edd-49fd5a5918a5",
   "metadata": {},
   "outputs": [],
   "source": []
  }
 ],
 "metadata": {
  "kernelspec": {
   "display_name": "Python 3 (ipykernel)",
   "language": "python",
   "name": "python3"
  },
  "language_info": {
   "codemirror_mode": {
    "name": "ipython",
    "version": 3
   },
   "file_extension": ".py",
   "mimetype": "text/x-python",
   "name": "python",
   "nbconvert_exporter": "python",
   "pygments_lexer": "ipython3",
   "version": "3.12.5"
  }
 },
 "nbformat": 4,
 "nbformat_minor": 5
}
